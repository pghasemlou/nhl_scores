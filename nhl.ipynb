{
 "cells": [
  {
   "cell_type": "code",
   "execution_count": null,
   "metadata": {},
   "outputs": [],
   "source": [
    "from bs4 import BeautifulSoup\n",
    "import pandas as pd\n",
    "from urllib.request import urlopen"
   ]
  },
  {
   "cell_type": "code",
   "execution_count": null,
   "metadata": {},
   "outputs": [],
   "source": [
    "def soupme(url):\n",
    "    page = urlopen(url)\n",
    "    soup = BeautifulSoup(page, 'html.parser')\n",
    "    return soup"
   ]
  },
  {
   "cell_type": "code",
   "execution_count": null,
   "metadata": {},
   "outputs": [],
   "source": [
    "scores = list()\n",
    "season_end = 2019\n",
    "season_start = 1967\n",
    "\n",
    "season_type = [\"\", \"_playoffs\"]\n",
    "\n",
    "for season in range(season_start, season_end+1):\n",
    "    url = \"https://www.hockey-reference.com/leagues/NHL_{}_games.html\".format(season)\n",
    "    soup = soupme(url)\n",
    "    \n",
    "    for x in season_type:\n",
    "        try:\n",
    "            idname = \"div_games\" + x\n",
    "            table_div = soup.find(id=idname)\n",
    "            table = table_div.find_all('tr')\n",
    "        except:\n",
    "            continue\n",
    "\n",
    "        for row in table[1:]:\n",
    "            s1 = (season-1) % 100\n",
    "            s2 = season % 100\n",
    "            scores.append([(\"\\'{:02d}-\\'{:02d}\".format(s1, s2))])\n",
    "            \n",
    "            # Define eras\n",
    "            if season < 1984:\n",
    "                scores[-1].append(\"TIE\")\n",
    "            elif season < 2000:\n",
    "                scores[-1].append(\"OT\")\n",
    "            elif season < 2006:\n",
    "                scores[-1].append(\"OTL\")\n",
    "            elif season < 2016:\n",
    "                scores[-1].append(\"4on4-SO\")\n",
    "            else:\n",
    "                scores[-1].append(\"3on3-SO\")\n",
    "                \n",
    "            # Distinguish regular season vs. playoffs\n",
    "            if x == \"\":\n",
    "                scores[-1].append(\"Regular\")\n",
    "            else:\n",
    "                scores[-1].append(\"Playoffs\")\n",
    "\n",
    "            for each in row:\n",
    "                cellvalue = each.text.strip()\n",
    "                cellvalue = cellvalue.replace(',', '').replace('\\n', '')\n",
    "                cellvalue = cellvalue.replace('Mighty Ducks of Anaheim', 'Anaheim Ducks')\n",
    "                cellvalue = cellvalue.replace('Phoenix Coyotes', 'Arizona Coyotes')\n",
    "                scores[-1].append(cellvalue)\n",
    "\n",
    "df = pd.DataFrame(scores)\n",
    "df.columns = ['season', 'era', 's_type', 'date', 'v_team', 'v_goals', 'h_team', 'h_goals', 'ot_so', 'attendance', 'log', 'notes']\n",
    "\n",
    "# remove \"blank\" rows (postponed games)\n",
    "df = df[df[\"v_goals\"]!='']\n",
    "# remove cancelled game\n",
    "df = df[df[\"date\"] != '1988-05-24']\n",
    "\n",
    "# convert columns to proper formats (dates, goals, attendance)\n",
    "df.date = pd.to_datetime(df.date)\n",
    "df.v_goals = df.v_goals.astype(int)\n",
    "df.h_goals = df.h_goals.astype(int)\n",
    "df.attendance = pd.to_numeric(df.attendance, errors='coerce')\n",
    "df['attendance'].fillna(0, inplace=True)\n",
    "df.attendance = df.attendance.astype(int)\n",
    "\n",
    "# Prepare a \"max\" column for sorting purposes\n",
    "df[\"max\"] = df[[\"v_goals\", \"h_goals\"]].max(axis=1)\n",
    "\n",
    "# Prepare a \"final score\" column\n",
    "df.loc[df.v_goals > df.h_goals, 'final_score'] = df.v_goals.astype(str) + '-' + df.h_goals.astype(str) + '⠀'\n",
    "df.loc[df.v_goals <= df.h_goals, 'final_score'] = df.h_goals.astype(str) + '-' + df.v_goals.astype(str) + '⠀'\n",
    "\n",
    "# Prepare a \"winner\" column for home/visitor\n",
    "df.loc[df.v_goals > df.h_goals, 'winner'] = 'Visitor'\n",
    "df.loc[df.v_goals < df.h_goals, 'winner'] = 'Home'\n",
    "df.loc[df.v_goals == df.h_goals, 'winner'] = 'Tie'\n",
    "\n",
    "# Add \"REG\" and \"TIE\" to type, in addition to \"SO\" and \"OT\"\n",
    "df.loc[df.v_goals == df.h_goals, 'ot_so'] = 'TIE'\n",
    "df.loc[df.ot_so == '', 'type'] = 'REG'\n",
    "df.loc[df.ot_so != '', 'type'] = df.ot_so\n",
    "\n",
    "# add \"goals\" columns (one integer, one for axis)\n",
    "df[\"goals\"] = df.v_goals + df.h_goals\n",
    "df[\"goals_axis\"] = df[\"goals\"].astype(str) + 'G'\n",
    "\n",
    "# Drop unneeded columns\n",
    "try:\n",
    "#     df.drop([\"ot_so\", \"log\", \"notes\"], axis=1, inplace=True)\n",
    "    df.drop([\"ot_so\", \"log\"], axis=1, inplace=True)\n",
    "\n",
    "except:\n",
    "    pass\n",
    "\n",
    "# Write to csv files\n",
    "df.to_csv(\"nhl.csv\", index=False)\n"
   ]
  },
  {
   "cell_type": "code",
   "execution_count": null,
   "metadata": {},
   "outputs": [],
   "source": [
    "# Sort data and export to .csv\n",
    "# df.sort_values(by=['goals', 'max'], inplace=True, ascending=False)\n",
    "# df.to_csv(\"nhl_sorted.csv\", index=False)"
   ]
  },
  {
   "cell_type": "code",
   "execution_count": null,
   "metadata": {},
   "outputs": [],
   "source": [
    "# df[df[\"date\"] == '2014-01-21']\n",
    "# df.attendance = df.attendance.astype(int)\n",
    "# df[df[\"attendance\"] == '\\n']\n",
    "# df.loc[df.attendance == '', df.attendance] = '0'"
   ]
  },
  {
   "cell_type": "code",
   "execution_count": null,
   "metadata": {},
   "outputs": [],
   "source": [
    "df.dtypes"
   ]
  },
  {
   "cell_type": "code",
   "execution_count": null,
   "metadata": {},
   "outputs": [],
   "source": [
    "df"
   ]
  }
 ],
 "metadata": {
  "kernelspec": {
   "display_name": "Python 3",
   "language": "python",
   "name": "python3"
  },
  "language_info": {
   "codemirror_mode": {
    "name": "ipython",
    "version": 3
   },
   "file_extension": ".py",
   "mimetype": "text/x-python",
   "name": "python",
   "nbconvert_exporter": "python",
   "pygments_lexer": "ipython3",
   "version": "3.7.3"
  }
 },
 "nbformat": 4,
 "nbformat_minor": 2
}
